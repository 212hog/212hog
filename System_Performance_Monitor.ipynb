{
  "cells": [
    {
      "cell_type": "markdown",
      "metadata": {
        "id": "view-in-github",
        "colab_type": "text"
      },
      "source": [
        "<a href=\"https://colab.research.google.com/github/212hog/212hog/blob/main/System_Performance_Monitor.ipynb\" target=\"_parent\"><img src=\"https://colab.research.google.com/assets/colab-badge.svg\" alt=\"Open In Colab\"/></a>"
      ]
    },
    {
      "cell_type": "code",
      "source": [
        "import psutil\n",
        "import time\n",
        "from datetime import datetime\n",
        "import os\n",
        "\n",
        "def get_system_usage():\n",
        "    \"\"\"\n",
        "    Retrieves current CPU and memory usage.\n",
        "    Returns:\n",
        "        tuple: (cpu_percent, memory_percent)\n",
        "    \"\"\"\n",
        "    cpu_percent = psutil.cpu_percent(interval=1) # Non-blocking, samples over 1 second\n",
        "    memory_info = psutil.virtual_memory()\n",
        "    memory_percent = memory_info.percent\n",
        "    return cpu_percent, memory_percent\n",
        "\n",
        "def log_performance_data(log_file_path, cpu_usage, mem_usage):\n",
        "    \"\"\"\n",
        "    Logs the CPU and memory usage to a specified file.\n",
        "    Args:\n",
        "        log_file_path (str): The path to the log file.\n",
        "        cpu_usage (float): Current CPU utilization percentage.\n",
        "        mem_usage (float): Current memory utilization percentage.\n",
        "    \"\"\"\n",
        "    timestamp = datetime.now().strftime(\"%Y-%m-%d %H:%M:%S\")\n",
        "    log_entry = f\"{timestamp}, CPU: {cpu_usage:.2f}%, Memory: {mem_usage:.2f}%\\n\"\n",
        "\n",
        "    try:\n",
        "        with open(log_file_path, 'a') as f:\n",
        "            f.write(log_entry)\n",
        "        print(f\"Logged: {log_entry.strip()}\")\n",
        "    except IOError as e:\n",
        "        print(f\"Error writing to log file {log_file_path}: {e}\")\n",
        "\n",
        "def monitor_system(interval_seconds=5, duration_minutes=None, log_filename=\"system_performance.log\"):\n",
        "    \"\"\"\n",
        "    Monitors system performance and logs data periodically.\n",
        "    Args:\n",
        "        interval_seconds (int): The time interval (in seconds) between each log entry.\n",
        "        duration_minutes (int, optional): The total duration (in minutes) to monitor.\n",
        "                                          If None, it will run indefinitely until stopped.\n",
        "        log_filename (str): The name of the log file.\n",
        "    \"\"\"\n",
        "    # Create logs directory if it doesn't exist\n",
        "    log_dir = \"logs\"\n",
        "    if not os.path.exists(log_dir):\n",
        "        os.makedirs(log_dir)\n",
        "        print(f\"Created directory: {log_dir}\")\n",
        "\n",
        "    log_file_path = os.path.join(log_dir, log_filename)\n",
        "    print(f\"Logging system performance to: {log_file_path}\")\n",
        "    print(f\"Monitoring every {interval_seconds} seconds.\")\n",
        "    if duration_minutes:\n",
        "        print(f\"Monitoring for approximately {duration_minutes} minutes.\")\n",
        "\n",
        "    start_time = time.time()\n",
        "    end_time = start_time + (duration_minutes * 60) if duration_minutes else float('inf')\n",
        "\n",
        "    try:\n",
        "        while time.time() < end_time:\n",
        "            cpu, memory = get_system_usage()\n",
        "            log_performance_data(log_file_path, cpu, memory)\n",
        "            time.sleep(interval_seconds)\n",
        "    except KeyboardInterrupt:\n",
        "        print(\"\\nMonitoring stopped by user (Ctrl+C).\")\n",
        "    except Exception as e:\n",
        "        print(f\"An unexpected error occurred: {e}\")\n",
        "    finally:\n",
        "        print(\"Monitoring session ended.\")\n",
        "\n",
        "if __name__ == \"__main__\":\n",
        "    # Example usage:\n",
        "    # Monitor for 1 minute, logging every 5 seconds\n",
        "    # monitor_system(interval_seconds=5, duration_minutes=1)\n",
        "\n",
        "    # Monitor indefinitely, logging every 10 seconds (uncomment to use)\n",
        "    monitor_system(interval_seconds=10)"
      ],
      "outputs": [
        {
          "output_type": "stream",
          "name": "stdout",
          "text": [
            "Logging system performance to: logs/system_performance.log\n",
            "Monitoring every 10 seconds.\n",
            "Logged: 2025-07-21 13:03:20, CPU: 3.50%, Memory: 7.90%\n",
            "Logged: 2025-07-21 13:03:31, CPU: 2.50%, Memory: 8.10%\n",
            "Logged: 2025-07-21 13:03:42, CPU: 2.50%, Memory: 8.10%\n",
            "Logged: 2025-07-21 13:03:53, CPU: 3.00%, Memory: 8.00%\n",
            "\n",
            "Monitoring stopped by user (Ctrl+C).\n",
            "Monitoring session ended.\n"
          ]
        }
      ],
      "execution_count": null,
      "metadata": {
        "colab": {
          "base_uri": "https://localhost:8080/"
        },
        "id": "DnneJVpw47xR",
        "outputId": "a7b73ab8-f068-45ff-9c89-710ca9458176"
      }
    }
  ],
  "metadata": {
    "colab": {
      "provenance": [],
      "include_colab_link": true
    },
    "kernelspec": {
      "display_name": "Python 3",
      "name": "python3"
    }
  },
  "nbformat": 4,
  "nbformat_minor": 0
}